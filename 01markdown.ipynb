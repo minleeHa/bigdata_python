{
 "cells": [
  {
   "cell_type": "markdown",
   "id": "d87f35b4-f093-454a-8796-f0042e494d5b",
   "metadata": {
    "tags": []
   },
   "source": [
    "# 마크다운markdown\n",
    "* 주피터 노트북등에 문서 작성시 내용전달시 이해하기 쉽도록 추가적으로 작성하는 꾸밈 문장을 마크다운을 이용해서 작성함\n",
    "* 이러한 종류의 문서는 보통 .md라는 확장자를 가짐\n",
    "* 간단하고 단순한 문법으로 html 기반 문서를 손쉽게 작성하게 해주기 때문에 익혀두면 유용함\n",
    "* 또한 복잡한 수식도 화려하게 작성할 수도 있음"
   ]
  },
  {
   "cell_type": "markdown",
   "id": "b888cd00-547b-40e2-acd3-5f11ded181e1",
   "metadata": {},
   "source": [
    "1. 텍스트 기반의 마크업언어로 2004년 존그루버에 의해 만들어졌으며 쉽게 쓰고 읽을 수 있으며 HTML로 변환이 가능 \n",
    "2. 특수기호와 문자를 이용한 매우 간단한 구조의 문법을 사용하여 웹에서도 보다 빠르게 컨텐츠를 작성하고 보다 직관적으로 인식할 수 있음\n",
    "3. 마크다운이 최근 각광받기 시작한 이유는 github 덕분임 \n",
    "4. 깃헙의 저장소Repository에 관한 정보를 기록하는 README.md는 깃헙을 사용하는 사람이라면 누구나 가장 먼저 접하게 되는 마크다운 문서였음\n",
    "5. 이 문서를 통해서 설치방법, 소스코드 설명, 이슈 등을 간단하게 기록하고 가독성을 높일 수 있다는 강점이 부각되면서 점점 여러 곳으로 퍼져가게 되었음\n"
   ]
  },
  {
   "cell_type": "markdown",
   "id": "cd5d27c8-081b-4c09-9be7-00a426174655",
   "metadata": {},
   "source": [
    "# 마크다운의 장-단점\n",
    "## 장점\n",
    "1. 간결하다.\n",
    "2. 별도의 도구없이 작성가능하다.\n",
    "3. 다양한 형태로 변환이 가능하다.\n",
    "3. 텍스트(Text)로 저장되기 때문에 용량이 적어 보관이 용이하다.\n",
    "4. 텍스트파일이기 때문에 버전관리시스템을 이용하여 변경이력을 관리할 수 있다.\n",
    "5. 지원하는 프로그램과 플랫폼이 다양하다.\n",
    "\n",
    "## 단점\n",
    "1. 표준이 없다.\n",
    "2. 표준이 없기 때문에 도구에 따라서 변환방식이나 생성물이 다르다.\n",
    "3. 모든 HTML 마크업을 대신하지 못한다."
   ]
  },
  {
   "cell_type": "markdown",
   "id": "3ddbf771-452c-4cf4-bd27-745b92518495",
   "metadata": {},
   "source": [
    "# 제목\n",
    "* 제목을 작성할때는 #을 사용**\n",
    "\n",
    "# 제목 1\n",
    "## 제목 2\n",
    "### 제목 3\n",
    "#### 제목 4\n",
    "##### 제목 5"
   ]
  },
  {
   "cell_type": "markdown",
   "id": "5274c249-45c6-4a22-96fb-fa60e4f2da2b",
   "metadata": {},
   "source": [
    "# 문장꾸미기\n",
    "\n",
    "* 문장꾸미기에는 **, __, ~~ 등이 사용된다\n",
    "* 줄바꿈은 스페이스바 2번 입력\n",
    "* **진하게** 표시하려면 * 사용\n",
    "* __진하게__ 표시하려면 __ 사용\n",
    "* _기울어진 글씨_ 를 표시하려면 __ 사용\n",
    "* ~~취소선~~은 ~로 이용함"
   ]
  },
  {
   "cell_type": "markdown",
   "id": "5264801d-e076-4f7b-b0dd-b225df8c237b",
   "metadata": {},
   "source": [
    "# 구분선\n",
    "* 구분선을 그을려면 -를 여러번 작성하면 됨\n",
    "---"
   ]
  },
  {
   "cell_type": "markdown",
   "id": "203242a2-0b9b-4b4f-94af-ffc949d4987e",
   "metadata": {},
   "source": [
    "# 인용구\n",
    "* 인용구를 입력하려면 > 를 사용함\n",
    "> 시간은 금이라구, 친구!!"
   ]
  },
  {
   "cell_type": "markdown",
   "id": "66784ff8-878e-44e8-9be1-2d270798bfa2",
   "metadata": {},
   "source": [
    "# 순서있는 목록\n",
    "* 순서있는 목록을 만들려면 항목앞에 숫자를 작성한다\n",
    "\n",
    "## 좋아하는 게임들\n",
    "1. 디아블로 4\n",
    "2. 월드오브워크래프트\n",
    "3. 스타크래프트\n",
    "4. 롤"
   ]
  },
  {
   "cell_type": "markdown",
   "id": "5f2f3d7f-91ae-421d-ab4a-86f93589dd9f",
   "metadata": {},
   "source": [
    "# 순서없는 목록\n",
    "* 순서있는 목록을 만들려면 항목앞에 *, +, -를 작성한다\n",
    "* 단, 목록에 들여쓰기를 적용하려면 탭을 사용함\n",
    "\n",
    "## 좋아하는 게임들\n",
    "+ 디아블로 4\n",
    "+ 월드오브워크래프트\n",
    "+ 스타크래프트\n",
    "+ 롤"
   ]
  },
  {
   "cell_type": "markdown",
   "id": "7db30ae2-53eb-4cc4-bb4e-14eca5f30492",
   "metadata": {},
   "source": [
    "## 좋아하는 음식\n",
    "* 분식\n",
    "    + 라면\n",
    "    + 떡볶이\n",
    "    + 김밥\n",
    "* 양식\n",
    "    + 돈까스\n",
    "    + 오므라이스\n",
    "    + 스프\n",
    "* 한식\n",
    "    + 비빔밥\n",
    "    + 짜장면"
   ]
  },
  {
   "cell_type": "markdown",
   "id": "f84389a0-7684-46ad-ba2d-a7aa629d48cb",
   "metadata": {},
   "source": [
    "# 링크\n",
    "+ `[링크텍스트](링크URL)`로 링크를 생성할 수 있음\n",
    "+ [네이버로](http://naver.co.kr)\n",
    "+ [구글로](http://google.co.kr)"
   ]
  },
  {
   "cell_type": "markdown",
   "id": "cae2d169-5153-4d3f-9216-69fb83e8b598",
   "metadata": {},
   "source": [
    "# 이미지\n",
    "* `[그림설명](그림주소)`로 그림을 나타낼수 있음\n",
    "+ 간단하게 img태그를 사용해서 이미지를 나타낼수도 있음 (크기변경 가능)"
   ]
  },
  {
   "cell_type": "markdown",
   "id": "812efa24-0f8a-4198-8ea4-c1ca3078aa9b",
   "metadata": {},
   "source": [
    "![자까](new.jpg){: width=10, height=10}"
   ]
  },
  {
   "cell_type": "markdown",
   "id": "ce034aab-bf19-4808-9507-948504189861",
   "metadata": {},
   "source": [
    "![바보개](https://encrypted-tbn0.gstatic.com/images?q=tbn:ANd9GcTg6mbA1HdSkyxiyoNPXaVoYdTmWw5T0_-KhXd1wmZnStZiFDPYmi7wTapauJvIxM6n9LY&usqp=CAU)"
   ]
  },
  {
   "cell_type": "markdown",
   "id": "6a499229-c1fc-4a2d-ba03-8b98b0f6bd02",
   "metadata": {},
   "source": [
    "<img alt='바보개' src='https://encrypted-tbn0.gstatic.com/images?q=tbn:ANd9GcTg6mbA1HdSkyxiyoNPXaVoYdTmWw5T0_-KhXd1wmZnStZiFDPYmi7wTapauJvIxM6n9LY&usqp=CAU'\n",
    "     width='200px' height='200px' />"
   ]
  },
  {
   "cell_type": "markdown",
   "id": "e0696a0d-182e-4826-9048-73610b3c949e",
   "metadata": {},
   "source": [
    "# 테이블\n",
    "+ 데이터와 |, -- 문자를 이용함\n",
    "+ 정렬을 하려면 : 을 이용함"
   ]
  },
  {
   "cell_type": "markdown",
   "id": "3453bec4-0119-4e65-a667-f810c8465d78",
   "metadata": {},
   "source": [
    "|이름|국어|영어|수학|\n",
    "|---|---|---|---|\n",
    "|수지|99|98|99|\n",
    "|지현|50|77|44|"
   ]
  },
  {
   "cell_type": "markdown",
   "id": "9ef17568-2ed2-4687-9a30-699c9519e2bd",
   "metadata": {},
   "source": [
    "# 수식\n",
    "+ 수학식은 $기호를 이용해서 표현 가능\n",
    "+ 수학식은 LateX 문법을 따름"
   ]
  },
  {
   "cell_type": "markdown",
   "id": "deb317d2-9608-4419-ab56-483c790f6666",
   "metadata": {},
   "source": [
    "$ a^2 = b^2 + c^2 $"
   ]
  },
  {
   "cell_type": "markdown",
   "id": "a244ca97-700a-40c8-a951-6f1e7df1e080",
   "metadata": {},
   "source": [
    "* $ ax^2 + bx + c = 0 $\n",
    "\n",
    "* 근의 공식: $$ x = { -b\\pm \\sqrt{b^2-4ac}\\over 2a} $$\n",
    "\n",
    "* 짝수 공식: $$ x = { -b`\\pm \\sqrt{b`^2-ac}\\over a}  \\begin{pmatrix}{b` = \\frac{b}{2}}\\end{pmatrix}  $$"
   ]
  },
  {
   "cell_type": "markdown",
   "id": "df38b0d4-5a95-4cd2-b494-b5a9c3f7f092",
   "metadata": {},
   "source": [
    "# 코드블럭\n",
    "* ` ``` 프로그래밍 코드 ``` `형태로 작성함\n",
    "* 마크다운을 실행하는 프로그램이나 플랫폼에 따라 코드컬러링이 지원되기도 함"
   ]
  },
  {
   "cell_type": "markdown",
   "id": "c9eef259-d7d4-4113-a584-6275dc84fd64",
   "metadata": {},
   "source": [
    "```\n",
    "public static void main(string[] args){\n",
    "    System.out.print(\"Hello, World!\");\n",
    "}\n",
    "```"
   ]
  },
  {
   "cell_type": "markdown",
   "id": "8142a17f-3850-4e62-b996-46ff3b764bd3",
   "metadata": {},
   "source": []
  }
 ],
 "metadata": {
  "kernelspec": {
   "display_name": "Python 3",
   "language": "python",
   "name": "python3"
  },
  "language_info": {
   "codemirror_mode": {
    "name": "ipython",
    "version": 3
   },
   "file_extension": ".py",
   "mimetype": "text/x-python",
   "name": "python",
   "nbconvert_exporter": "python",
   "pygments_lexer": "ipython3",
   "version": "3.8.12"
  }
 },
 "nbformat": 4,
 "nbformat_minor": 5
}
